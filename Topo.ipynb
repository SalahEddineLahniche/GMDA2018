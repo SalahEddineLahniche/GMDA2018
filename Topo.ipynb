{
 "cells": [
  {
   "cell_type": "code",
   "execution_count": 2,
   "metadata": {
    "collapsed": true
   },
   "outputs": [],
   "source": [
    "import numpy as np\n",
    "import rmsd"
   ]
  },
  {
   "cell_type": "code",
   "execution_count": 10,
   "metadata": {
    "collapsed": true
   },
   "outputs": [],
   "source": [
    "file = np.loadtxt('C:/Users/Alaa Eddine MAHI/Desktop/hybrid-TRRT-BH-BLN__minima_below_100.txt')"
   ]
  },
  {
   "cell_type": "code",
   "execution_count": 3,
   "metadata": {},
   "outputs": [
    {
     "data": {
      "text/plain": [
       "(208,)"
      ]
     },
     "execution_count": 3,
     "metadata": {},
     "output_type": "execute_result"
    }
   ],
   "source": [
    "np.shape(file[0])"
   ]
  },
  {
   "cell_type": "code",
   "execution_count": 4,
   "metadata": {},
   "outputs": [
    {
     "data": {
      "text/plain": [
       "207"
      ]
     },
     "execution_count": 4,
     "metadata": {},
     "output_type": "execute_result"
    }
   ],
   "source": [
    "np.size(file[14215][1:])"
   ]
  },
  {
   "cell_type": "code",
   "execution_count": 5,
   "metadata": {},
   "outputs": [
    {
     "data": {
      "text/plain": [
       "array([[ 2.59927 , -1.52362 , -3.22789 ],\n",
       "       [ 2.33363 , -1.14446 , -2.35701 ],\n",
       "       [ 2.41286 , -0.164554, -2.41482 ],\n",
       "       [ 2.15662 ,  0.113271, -1.50949 ],\n",
       "       [ 2.27824 ,  1.09417 , -1.52357 ],\n",
       "       [ 2.01834 ,  1.34884 , -0.611599],\n",
       "       [ 2.18652 ,  2.32387 , -0.567543],\n",
       "       [ 1.92618 ,  2.57345 ,  0.355252],\n",
       "       [ 2.20657 ,  3.52133 ,  0.358836],\n",
       "       [ 1.9897  ,  3.98956 ,  1.21651 ],\n",
       "       [ 2.78314 ,  4.56685 ,  1.37528 ],\n",
       "       [ 3.51827 ,  3.90716 ,  1.52538 ],\n",
       "       [ 3.76377 ,  3.48968 ,  0.644358],\n",
       "       [ 3.08642 ,  2.79395 ,  0.339985],\n",
       "       [ 3.59525 ,  2.45946 , -0.470218],\n",
       "       [ 3.07869 ,  1.66448 , -0.813454],\n",
       "       [ 3.65997 ,  1.32124 , -1.56022 ],\n",
       "       [ 3.1872  ,  0.469172, -1.81631 ],\n",
       "       [ 3.75969 ,  0.115841, -2.56587 ],\n",
       "       [ 3.28661 , -0.738321, -2.79026 ],\n",
       "       [ 3.79991 , -1.07879 , -3.58749 ],\n",
       "       [ 4.6111  , -1.4917  , -3.18582 ],\n",
       "       [ 4.26415 , -1.67421 , -2.27262 ],\n",
       "       [ 3.2849  , -1.8447  , -2.41992 ],\n",
       "       [ 2.90238 , -1.60267 , -1.54861 ],\n",
       "       [ 3.01914 , -0.632762, -1.61358 ],\n",
       "       [ 2.7155  , -0.382794, -0.717599],\n",
       "       [ 2.8363  ,  0.581651, -0.736271],\n",
       "       [ 2.55433 ,  0.800815,  0.173731],\n",
       "       [ 2.66791 ,  1.76215 ,  0.215931],\n",
       "       [ 2.39687 ,  1.8837  ,  1.14079 ],\n",
       "       [ 2.44803 ,  2.84654 ,  1.30149 ],\n",
       "       [ 2.4293  ,  2.85488 ,  2.30587 ],\n",
       "       [ 1.71279 ,  3.46177 ,  2.63594 ],\n",
       "       [ 0.859356,  2.94591 ,  2.56676 ],\n",
       "       [ 1.06996 ,  1.9667  ,  2.50655 ],\n",
       "       [ 1.36403 ,  1.74574 ,  1.56077 ],\n",
       "       [ 1.43196 ,  0.741174,  1.62088 ],\n",
       "       [ 1.65995 ,  0.432554,  0.693442],\n",
       "       [ 1.68327 , -0.567979,  0.764073],\n",
       "       [ 1.88304 , -0.861705, -0.174895],\n",
       "       [ 1.88552 , -1.86433 , -0.110699],\n",
       "       [ 2.07806 , -2.14659 , -1.04994 ],\n",
       "       [ 2.04542 , -3.15232 , -1.01967 ],\n",
       "       [ 1.41568 , -3.4284  , -1.75267 ],\n",
       "       [ 1.83403 , -3.04493 , -2.57415 ],\n",
       "       [ 2.25934 , -2.22707 , -2.19128 ],\n",
       "       [ 1.51693 , -1.65684 , -1.84441 ],\n",
       "       [ 2.01356 , -0.981813, -1.32305 ],\n",
       "       [ 1.31225 , -0.374432, -1.00051 ],\n",
       "       [ 1.82801 ,  0.258222, -0.452921],\n",
       "       [ 1.13412 ,  0.89456 , -0.162733],\n",
       "       [ 1.63521 ,  1.52279 ,  0.406281],\n",
       "       [ 0.920942,  2.1614  ,  0.629031],\n",
       "       [ 1.30611 ,  2.86206 ,  1.21438 ],\n",
       "       [ 0.469974,  3.39853 ,  1.40588 ],\n",
       "       [ 0.71596 ,  4.30139 ,  1.76578 ],\n",
       "       [ 1.02702 ,  4.8165  ,  0.966585],\n",
       "       [ 0.671093,  4.29465 ,  0.191629],\n",
       "       [ 1.09488 ,  3.37688 ,  0.237924],\n",
       "       [ 0.685384,  2.92247 , -0.542233],\n",
       "       [ 1.12845 ,  2.03063 , -0.476492],\n",
       "       [ 0.739765,  1.59968 , -1.28624 ],\n",
       "       [ 1.24244 ,  0.739653, -1.28553 ],\n",
       "       [ 0.854649,  0.313493, -2.10307 ],\n",
       "       [ 1.38749 , -0.530517, -2.13752 ],\n",
       "       [ 0.994586, -0.966272, -2.95032 ],\n",
       "       [ 1.55705 , -1.78644 , -2.96106 ],\n",
       "       [ 1.22882 , -2.31883 , -3.75035 ]])"
      ]
     },
     "execution_count": 5,
     "metadata": {},
     "output_type": "execute_result"
    }
   ],
   "source": [
    "file[14215][1:].reshape(-1,3)"
   ]
  },
  {
   "cell_type": "code",
   "execution_count": 6,
   "metadata": {},
   "outputs": [
    {
     "data": {
      "text/plain": [
       "array([[ 2.59927  , -1.52362  , -3.22789  ,  2.33363  , -1.14446  ,\n",
       "        -2.35701  ,  2.41286  , -0.164554 , -2.41482  ,  2.15662  ,\n",
       "         0.113271 , -1.50949  ,  2.27824  ,  1.09417  , -1.52357  ,\n",
       "         2.01834  ,  1.34884  , -0.611599 ,  2.18652  ,  2.32387  ,\n",
       "        -0.567543 ,  1.92618  ,  2.57345  ,  0.355252 ,  2.20657  ,\n",
       "         3.52133  ,  0.358836 ,  1.9897   ,  3.98956  ,  1.21651  ,\n",
       "         2.78314  ,  4.56685  ,  1.37528  ,  3.51827  ,  3.90716  ,\n",
       "         1.52538  ,  3.76377  ,  3.48968  ,  0.644358 ,  3.08642  ,\n",
       "         2.79395  ,  0.339985 ,  3.59525  ,  2.45946  , -0.470218 ,\n",
       "         3.07869  ,  1.66448  , -0.813454 ,  3.65997  ,  1.32124  ,\n",
       "        -1.56022  ,  3.1872   ,  0.469172 , -1.81631  ,  3.75969  ,\n",
       "         0.115841 , -2.56587  ,  3.28661  , -0.738321 , -2.79026  ,\n",
       "         3.79991  , -1.07879  , -3.58749  ,  4.6111   , -1.4917   ,\n",
       "        -3.18582  ,  4.26415  , -1.67421  , -2.27262  ,  3.2849   ,\n",
       "        -1.8447   , -2.41992  ,  2.90238  , -1.60267  , -1.54861  ,\n",
       "         3.01914  , -0.632762 , -1.61358  ,  2.7155   , -0.382794 ,\n",
       "        -0.717599 ,  2.8363   ,  0.581651 , -0.736271 ,  2.55433  ,\n",
       "         0.800815 ,  0.173731 ,  2.66791  ,  1.76215  ,  0.215931 ,\n",
       "         2.39687  ,  1.8837   ,  1.14079  ,  2.44803  ,  2.84654  ,\n",
       "         1.30149  ,  2.4293   ,  2.85488  ,  2.30587  ,  1.71279  ,\n",
       "         3.46177  ,  2.63594  ,  0.859356 ,  2.94591  ,  2.56676  ,\n",
       "         1.06996  ,  1.9667   ,  2.50655  ,  1.36403  ,  1.74574  ,\n",
       "         1.56077  ,  1.43196  ,  0.741174 ,  1.62088  ,  1.65995  ,\n",
       "         0.432554 ,  0.693442 ,  1.68327  , -0.567979 ,  0.764073 ,\n",
       "         1.88304  , -0.861705 , -0.174895 ,  1.88552  , -1.86433  ,\n",
       "        -0.110699 ,  2.07806  , -2.14659  , -1.04994  ,  2.04542  ,\n",
       "        -3.15232  , -1.01967  ,  1.41568  , -3.4284   , -1.75267  ,\n",
       "         1.83403  , -3.04493  , -2.57415  ,  2.25934  , -2.22707  ,\n",
       "        -2.19128  ,  1.51693  , -1.65684  , -1.84441  ,  2.01356  ,\n",
       "        -0.981813 , -1.32305  ,  1.31225  , -0.374432 , -1.00051  ,\n",
       "         1.82801  ,  0.258222 , -0.452921 ,  1.13412  ,  0.89456  ,\n",
       "        -0.162733 ,  1.63521  ,  1.52279  ,  0.406281 ,  0.920942 ,\n",
       "         2.1614   ,  0.629031 ,  1.30611  ,  2.86206  ,  1.21438  ,\n",
       "         0.469974 ,  3.39853  ,  1.40588  ,  0.71596  ,  4.30139  ,\n",
       "         1.76578  ,  1.02702  ,  4.8165   ,  0.966585 ,  0.671093 ,\n",
       "         4.29465  ,  0.191629 ,  1.09488  ,  3.37688  ,  0.237924 ,\n",
       "         0.685384 ,  2.92247  , -0.542233 ,  1.12845  ,  2.03063  ,\n",
       "        -0.476492 ,  0.739765 ,  1.59968  , -1.28624  ,  1.24244  ,\n",
       "         0.739653 , -1.28553  ,  0.854649 ,  0.313493 , -2.10307  ,\n",
       "         1.38749  , -0.530517 , -2.13752  ,  0.994586 , -0.966272 ,\n",
       "        -2.95032  ,  1.55705  , -1.78644  , -2.96106  ,  1.22882  ,\n",
       "        -2.31883  , -3.75035  ],\n",
       "       [-2.93847  ,  2.26983  ,  1.83676  , -3.12301  ,  2.75397  ,\n",
       "         2.67649  , -2.26449  ,  3.20571  ,  2.81182  , -2.43024  ,\n",
       "         3.70824  ,  3.63361  , -1.5545   ,  4.1264   ,  3.74991  ,\n",
       "        -1.68036  ,  4.66296  ,  4.54765  , -0.771425 ,  5.0137   ,\n",
       "         4.61933  , -0.799726 ,  5.5839   ,  5.39801  ,  0.145825 ,\n",
       "         5.7679   ,  5.23762  ,  0.512771 ,  6.41853  ,  5.88671  ,\n",
       "         1.47181  ,  6.32202  ,  5.64449  ,  1.59961  ,  5.32594  ,\n",
       "         5.63094  ,  1.30321  ,  4.92739  ,  4.74949  ,  0.321283 ,\n",
       "         4.64139  ,  4.72385  ,  0.338219 ,  4.16326  ,  3.82578  ,\n",
       "        -0.545954 ,  3.70472  ,  3.65458  , -0.415146 ,  3.22482  ,\n",
       "         2.77996  , -1.28481  ,  2.7429   ,  2.61553  , -1.11392  ,\n",
       "         2.24116  ,  1.7623   , -1.96619  ,  1.75085  ,  1.56036  ,\n",
       "        -1.68501  ,  1.2134   ,  0.749067 , -2.44786  ,  0.649425 ,\n",
       "         0.412746 , -2.90013  ,  0.314924 ,  1.23534  , -2.95004  ,\n",
       "         1.18704  ,  1.70107  , -2.27824  ,  1.1529   ,  2.42902  ,\n",
       "        -2.25735  ,  2.09576  ,  2.70214  , -1.62133  ,  2.08126  ,\n",
       "         3.4449   , -1.57031  ,  3.0309   ,  3.68167  , -0.941474 ,\n",
       "         3.00225  ,  4.43074  , -0.877505 ,  3.94577  ,  4.67416  ,\n",
       "        -0.22458  ,  3.91054  ,  5.40355  , -0.0790027,  4.82175  ,\n",
       "         5.7646   ,  0.680456 ,  4.60665  ,  6.39492  ,  0.805179 ,\n",
       "         5.3429   ,  7.0601   ,  0.0685939,  5.21716  ,  7.72485  ,\n",
       "        -0.310431 ,  4.31037  ,  7.54216  , -0.613503 ,  4.29939  ,\n",
       "         6.57717  , -0.964987 ,  3.37002  ,  6.49674  , -1.22871  ,\n",
       "         3.33425  ,  5.53262  , -1.60498  ,  2.40754  ,  5.48429  ,\n",
       "        -1.89338  ,  2.36498  ,  4.52719  , -2.26008  ,  1.43133  ,\n",
       "         4.47632  , -2.54124  ,  1.38435  ,  3.51775  , -2.86986  ,\n",
       "         0.429911 ,  3.45681  , -3.87082  ,  0.467464 ,  3.44863  ,\n",
       "        -4.03544  ,  0.987601 ,  2.61559  , -3.26055  ,  1.61733  ,\n",
       "         2.67264  , -3.41418  ,  2.09603  ,  3.52145  , -2.58022  ,\n",
       "         2.5888   ,  3.64943  , -2.74462  ,  3.08969  ,  4.4825   ,\n",
       "        -1.88592  ,  3.5433   ,  4.61679  , -2.01477  ,  4.1052   ,\n",
       "         5.42122  , -1.13631  ,  4.53688  ,  5.54221  , -1.29487  ,\n",
       "         5.1397   ,  6.29947  , -0.446173 ,  5.625    ,  6.45167  ,\n",
       "        -0.676706 ,  6.18183  ,  7.25983  ,  0.0303734,  6.88051  ,\n",
       "         7.37307  , -0.128907 ,  7.51825  ,  6.62064  , -1.08796  ,\n",
       "         7.37583  ,  6.37208  , -1.11494  ,  6.42825  ,  6.03543  ,\n",
       "        -2.05242  ,  6.25627  ,  5.74906  , -1.94719  ,  5.32619  ,\n",
       "         5.38608  , -2.8687   ,  5.14756  ,  5.02538  , -2.74266  ,\n",
       "         4.26633  ,  4.55897  , -3.64673  ,  4.10851  ,  4.15277  ,\n",
       "        -3.47901  ,  3.27168  ,  3.6238   , -4.36858  ,  3.11773  ,\n",
       "         3.18607  , -4.14101  ,  2.31229  ,  2.64245  , -4.98687  ,\n",
       "         2.07823  ,  2.15179  ]])"
      ]
     },
     "execution_count": 6,
     "metadata": {},
     "output_type": "execute_result"
    }
   ],
   "source": [
    "P = file[14215][1:].reshape(-1,3)\n",
    "Q = file[7210][1:].reshape(-1,3)\n",
    "np.concatenate([P,Q], axis=0).reshape(2,-1)"
   ]
  },
  {
   "cell_type": "code",
   "execution_count": 7,
   "metadata": {},
   "outputs": [
    {
     "name": "stdout",
     "output_type": "stream",
     "text": [
      "RMSD before translation:  4.66096955595\n",
      "RMSD after translation:  0.511086677229\n"
     ]
    }
   ],
   "source": [
    "print (\"RMSD before translation: \", rmsd.kabsch_rmsd(P, Q))\n",
    "P -= rmsd.centroid(P)\n",
    "Q -= rmsd.centroid(Q)\n",
    "print (\"RMSD after translation: \", rmsd.kabsch_rmsd(P, Q))"
   ]
  },
  {
   "cell_type": "code",
   "execution_count": 33,
   "metadata": {},
   "outputs": [
    {
     "data": {
      "text/plain": [
       "array([[-1.82118196, -1.60952677, -2.60845456],\n",
       "       [-1.45908022, -1.39696538, -1.71600912],\n",
       "       [-1.02157312, -0.51615695, -1.76699153],\n",
       "       [-0.67752299, -0.40763047, -0.85467602],\n",
       "       [-0.18587959,  0.44915933, -0.89142542],\n",
       "       [ 0.14894133,  0.53612755,  0.02750189],\n",
       "       [ 0.70197258,  1.35765025,  0.01462373],\n",
       "       [ 1.03948768,  1.43739764,  0.94270865],\n",
       "       [ 1.64950586,  2.20764124,  0.83449353],\n",
       "       [ 2.0799633 ,  2.48864959,  1.69334004],\n",
       "       [ 3.0104131 ,  2.71420817,  1.42612253],\n",
       "       [ 3.38233649,  1.83481329,  1.13205681],\n",
       "       [ 2.9839806 ,  1.59652042,  0.24026723],\n",
       "       [ 2.02613272,  1.26181562,  0.31763848],\n",
       "       [ 1.90047983,  0.99492795, -0.65200205],\n",
       "       [ 1.00852719,  0.52697338, -0.69758053],\n",
       "       [ 0.9657427 ,  0.21237437, -1.65285879],\n",
       "       [ 0.12569725, -0.34389218, -1.65071235],\n",
       "       [ 0.07059346, -0.66409363, -2.6040551 ],\n",
       "       [-0.7555272 , -1.23016236, -2.57508724],\n",
       "       [-0.87401098, -1.50723135, -3.53642281],\n",
       "       [-0.22206964, -2.2503268 , -3.64886978],\n",
       "       [-0.13432991, -2.53318808, -2.70023409],\n",
       "       [-1.03657757, -2.33036878, -2.3071588 ],\n",
       "       [-0.82168289, -2.20447028, -1.35739512],\n",
       "       [-0.36247052, -1.34325662, -1.43492285],\n",
       "       [-0.07121252, -1.24220256, -0.5062571 ],\n",
       "       [ 0.41084473, -0.39896666, -0.54711628],\n",
       "       [ 0.71294166, -0.33659725,  0.3805103 ],\n",
       "       [ 1.21695614,  0.4908163 ,  0.39473955],\n",
       "       [ 1.49443534,  0.45698022,  1.32504147],\n",
       "       [ 2.00665709,  1.27632332,  1.47271838],\n",
       "       [ 2.47164863,  1.03667163,  2.3303602 ],\n",
       "       [ 2.3201224 ,  1.74075537,  3.0173494 ],\n",
       "       [ 1.41072276,  1.56818535,  3.39478667],\n",
       "       [ 1.14316352,  0.62280978,  3.1910501 ],\n",
       "       [ 0.83278528,  0.56386613,  2.22668953],\n",
       "       [ 0.50077189, -0.38819736,  2.19980498],\n",
       "       [ 0.11157865, -0.50992763,  1.28270228],\n",
       "       [-0.24851249, -1.44635526,  1.28874445],\n",
       "       [-0.65900947, -1.54236875,  0.37763657],\n",
       "       [-1.0392342 , -2.47224872,  0.38932305],\n",
       "       [-1.45077017, -2.55538457, -0.51767341],\n",
       "       [-1.87569351, -3.46802447, -0.51592884],\n",
       "       [-2.82698802, -3.32811359, -0.8084102 ],\n",
       "       [-2.73297144, -2.90881755, -1.7096577 ],\n",
       "       [-1.88384462, -2.40012853, -1.58084722],\n",
       "       [-2.06265334, -1.72517426, -0.86732229],\n",
       "       [-1.15113411, -1.40484066, -0.66573329],\n",
       "       [-1.29419611, -0.70339106,  0.00678523],\n",
       "       [-0.37278847, -0.43452295,  0.21851876],\n",
       "       [-0.5134955 ,  0.29902173,  0.86096112],\n",
       "       [ 0.40482911,  0.56326397,  1.09844165],\n",
       "       [ 0.21722469,  1.32256797,  1.69499935],\n",
       "       [ 1.08286353,  1.68662154,  2.01130092],\n",
       "       [ 0.74354969,  2.40074705,  2.64255885],\n",
       "       [ 1.47717746,  3.05138389,  2.85149736],\n",
       "       [ 1.55241357,  3.62007126,  2.03189777],\n",
       "       [ 0.69323239,  3.45707273,  1.54732845],\n",
       "       [ 0.66739051,  2.47091118,  1.32181125],\n",
       "       [-0.20820294,  2.38818149,  0.86430469],\n",
       "       [-0.19914878,  1.41440547,  0.64593288],\n",
       "       [-1.06291672,  1.35368136,  0.15328363],\n",
       "       [-1.02519966,  0.40574333, -0.15055845],\n",
       "       [-1.88999448,  0.35105322, -0.65006299],\n",
       "       [-1.83887276, -0.58331652, -0.99906007],\n",
       "       [-2.70934895, -0.64626304, -1.49222205],\n",
       "       [-2.61411713, -1.57461363, -1.836101  ],\n",
       "       [-3.46287114, -1.75266842, -2.3480247 ]])"
      ]
     },
     "execution_count": 33,
     "metadata": {},
     "output_type": "execute_result"
    }
   ],
   "source": [
    "mat = rmsd.kabsch_rotate(P,Q)"
   ]
  },
  {
   "cell_type": "code",
   "execution_count": 9,
   "metadata": {
    "collapsed": true
   },
   "outputs": [],
   "source": [
    "X = file[14215][1:].reshape(-1, 3).T"
   ]
  },
  {
   "cell_type": "code",
   "execution_count": 10,
   "metadata": {
    "collapsed": true
   },
   "outputs": [],
   "source": [
    "X1 = X[0].T\n",
    "X2 = X[1].T\n",
    "X3 = X[2].T"
   ]
  },
  {
   "cell_type": "code",
   "execution_count": 11,
   "metadata": {},
   "outputs": [
    {
     "data": {
      "text/plain": [
       "array([ -2.32190648e+00,  -1.94274648e+00,  -9.62840478e-01,\n",
       "        -6.85015478e-01,   2.95883522e-01,   5.50553522e-01,\n",
       "         1.52558352e+00,   1.77516352e+00,   2.72304352e+00,\n",
       "         3.19127352e+00,   3.76856352e+00,   3.10887352e+00,\n",
       "         2.69139352e+00,   1.99566352e+00,   1.66117352e+00,\n",
       "         8.66193522e-01,   5.22953522e-01,  -3.29114478e-01,\n",
       "        -6.82445478e-01,  -1.53660748e+00,  -1.87707648e+00,\n",
       "        -2.28998648e+00,  -2.47249648e+00,  -2.64298648e+00,\n",
       "        -2.40095648e+00,  -1.43104848e+00,  -1.18108048e+00,\n",
       "        -2.16635478e-01,   2.52852174e-03,   9.63863522e-01,\n",
       "         1.08541352e+00,   2.04825352e+00,   2.05659352e+00,\n",
       "         2.66348352e+00,   2.14762352e+00,   1.16841352e+00,\n",
       "         9.47453522e-01,  -5.71124783e-02,  -3.65732478e-01,\n",
       "        -1.36626548e+00,  -1.65999148e+00,  -2.66261648e+00,\n",
       "        -2.94487648e+00,  -3.95060648e+00,  -4.22668648e+00,\n",
       "        -3.84321648e+00,  -3.02535648e+00,  -2.45512648e+00,\n",
       "        -1.78009948e+00,  -1.17271848e+00,  -5.40064478e-01,\n",
       "         9.62735217e-02,   7.24503522e-01,   1.36311352e+00,\n",
       "         2.06377352e+00,   2.60024352e+00,   3.50310352e+00,\n",
       "         4.01821352e+00,   3.49636352e+00,   2.57859352e+00,\n",
       "         2.12418352e+00,   1.23234352e+00,   8.01393522e-01,\n",
       "        -5.86334783e-02,  -4.84793478e-01,  -1.32880348e+00,\n",
       "        -1.76455848e+00,  -2.58472648e+00,  -3.11711648e+00])"
      ]
     },
     "execution_count": 11,
     "metadata": {},
     "output_type": "execute_result"
    }
   ],
   "source": [
    "X2"
   ]
  },
  {
   "cell_type": "code",
   "execution_count": 12,
   "metadata": {
    "collapsed": true
   },
   "outputs": [],
   "source": [
    "from sklearn.manifold import MDS"
   ]
  },
  {
   "cell_type": "code",
   "execution_count": 13,
   "metadata": {
    "collapsed": true
   },
   "outputs": [],
   "source": [
    "mds = MDS(n_components=2)\n",
    "y = mds.fit_transform(mat)"
   ]
  },
  {
   "cell_type": "code",
   "execution_count": 21,
   "metadata": {},
   "outputs": [
    {
     "data": {
      "text/plain": [
       "array([[-1.82661323, -7.52968739],\n",
       "       [ 1.82661323,  7.52968739]])"
      ]
     },
     "execution_count": 21,
     "metadata": {},
     "output_type": "execute_result"
    }
   ],
   "source": [
    "y"
   ]
  },
  {
   "cell_type": "code",
   "execution_count": 3,
   "metadata": {
    "collapsed": true
   },
   "outputs": [],
   "source": [
    "%matplotlib inline"
   ]
  },
  {
   "cell_type": "code",
   "execution_count": 4,
   "metadata": {
    "collapsed": true
   },
   "outputs": [],
   "source": [
    "import matplotlib.pyplot as plt"
   ]
  },
  {
   "cell_type": "code",
   "execution_count": 16,
   "metadata": {},
   "outputs": [
    {
     "data": {
      "text/plain": [
       "<matplotlib.collections.PathCollection at 0x1b6028c4748>"
      ]
     },
     "execution_count": 16,
     "metadata": {},
     "output_type": "execute_result"
    },
    {
     "data": {
      "image/png": "[encoded data removed]",
      "text/plain": [
       "<matplotlib.figure.Figure at 0x1b60283bf28>"
      ]
     },
     "metadata": {},
     "output_type": "display_data"
    }
   ],
   "source": [
    "plt.scatter(y[:,0],y[:,1])"
   ]
  },
  {
   "cell_type": "code",
   "execution_count": 17,
   "metadata": {},
   "outputs": [
    {
     "data": {
      "text/plain": [
       "<matplotlib.collections.PathCollection at 0x1b602958cf8>"
      ]
     },
     "execution_count": 17,
     "metadata": {},
     "output_type": "execute_result"
    },
    {
     "data": {
      "image/png": "[encoded data removed]",
      "text/plain": [
       "<matplotlib.figure.Figure at 0x1b6028eb390>"
      ]
     },
     "metadata": {},
     "output_type": "display_data"
    }
   ],
   "source": [
    "y = mds.fit_transform(np.concatenate([P,Q], axis=0).reshape(2,-1))\n",
    "plt.scatter(y[:,0],y[:,1])"
   ]
  },
  {
   "cell_type": "code",
   "execution_count": 20,
   "metadata": {},
   "outputs": [
    {
     "data": {
      "text/plain": [
       "1.8655178877884273"
      ]
     },
     "execution_count": 20,
     "metadata": {},
     "output_type": "execute_result"
    }
   ],
   "source": [
    "rmsd.rmsd(P, Q)"
   ]
  },
  {
   "cell_type": "code",
   "execution_count": 26,
   "metadata": {
    "collapsed": true
   },
   "outputs": [],
   "source": [
    "low_10 = []\n",
    "index = [14725, 15697, 9361, 598547, 635923, 65179, 514166, 126122, 7604, 635917]\n",
    "for i in index:\n",
    "    low_10.append(file[i][1:].reshape(-1,3))"
   ]
  },
  {
   "cell_type": "code",
   "execution_count": 30,
   "metadata": {},
   "outputs": [
    {
     "data": {
      "text/plain": [
       "array([[-3.54829  , -3.02082  , -2.89559  ],\n",
       "       [-2.57638  , -3.06367  , -2.71984  ],\n",
       "       [-2.47495  , -2.57707  , -1.87394  ],\n",
       "       [-1.50419  , -2.66515  , -1.72158  ],\n",
       "       [-1.38937  , -2.16994  , -0.878819 ],\n",
       "       [-0.420998 , -2.25274  , -0.715454 ],\n",
       "       [-0.309672 , -1.74988  ,  0.126175 ],\n",
       "       [ 0.657882 , -1.84872  ,  0.318184 ],\n",
       "       [ 0.716913 , -1.35039  ,  1.1739   ],\n",
       "       [ 1.58164  , -1.5217   ,  1.64455  ],\n",
       "       [ 1.45806  , -1.22088  ,  2.59805  ],\n",
       "       [ 1.25371  , -0.235453 ,  2.61661  ],\n",
       "       [ 0.285669 , -0.135025 ,  2.37407  ],\n",
       "       [ 0.192945 , -0.433132 ,  1.41534  ],\n",
       "       [-0.791999 , -0.409599 ,  1.26384  ],\n",
       "       [-0.877411 , -0.818991 ,  0.355373 ],\n",
       "       [-1.86772  , -0.814253 ,  0.221611 ],\n",
       "       [-1.97649  , -1.25207  , -0.669522 ],\n",
       "       [-2.96947  , -1.23111  , -0.795142 ],\n",
       "       [-3.08397  , -1.6736   , -1.68031  ],\n",
       "       [-4.07827  , -1.62951  , -1.82515  ],\n",
       "       [-4.18839  , -1.08269  , -2.65664  ],\n",
       "       [-3.69488  , -1.63017  , -3.32756  ],\n",
       "       [-2.9867   , -2.04674  , -2.74804  ],\n",
       "       [-2.42846  , -1.27812  , -2.47111  ],\n",
       "       [-1.87908  , -1.64617  , -1.74289  ],\n",
       "       [-1.33147  , -0.872175 , -1.48108  ],\n",
       "       [-0.807325 , -1.23158  , -0.729545 ],\n",
       "       [-0.249009 , -0.460736 , -0.473311 ],\n",
       "       [ 0.281957 , -0.824262 ,  0.269082 ],\n",
       "       [ 0.769126 , -0.0252718,  0.521754 ],\n",
       "       [ 1.31832  , -0.341313 ,  1.27134  ],\n",
       "       [ 1.78163  ,  0.493837 ,  1.5709   ],\n",
       "       [ 1.87223  ,  1.01458  ,  0.726085 ],\n",
       "       [ 2.33539  ,  0.374053 ,  0.119252 ],\n",
       "       [ 1.76763  ,  0.287392 , -0.699601 ],\n",
       "       [ 0.96712  , -0.328513 , -0.556625 ],\n",
       "       [ 0.624964 , -0.228451 , -1.49765  ],\n",
       "       [-0.187696 , -0.808333 , -1.55453  ],\n",
       "       [-0.457167 , -0.642074 , -2.50582  ],\n",
       "       [-1.2706   , -1.22046  , -2.5803   ],\n",
       "       [-1.54998  , -1.04067  , -3.52597  ],\n",
       "       [-2.35729  , -1.62232  , -3.5844   ],\n",
       "       [-2.69221  , -1.41429  , -4.51526  ],\n",
       "       [-2.48928  , -2.20896  , -5.09223  ],\n",
       "       [-3.04157  , -2.91165  , -4.65368  ],\n",
       "       [-2.9317   , -2.60829  , -3.70997  ],\n",
       "       [-1.96065  , -2.66336  , -3.55332  ],\n",
       "       [-1.86475  , -2.20526  , -2.69278  ],\n",
       "       [-0.895615 , -2.26676  , -2.54337  ],\n",
       "       [-0.776873 , -1.79278  , -1.69195  ],\n",
       "       [ 0.191673 , -1.85306  , -1.53606  ],\n",
       "       [ 0.292268 , -1.3823   , -0.680753 ],\n",
       "       [ 1.25092  , -1.4136   , -0.521098 ],\n",
       "       [ 1.40258  , -0.960172 ,  0.341828 ],\n",
       "       [ 2.41225  , -0.935489 ,  0.299281 ],\n",
       "       [ 2.79944  , -0.807742 ,  1.20962  ],\n",
       "       [ 2.85048  , -1.7313   ,  1.58841  ],\n",
       "       [ 2.60818  , -2.36353  ,  0.845711 ],\n",
       "       [ 1.74966  , -2.048    ,  0.412371 ],\n",
       "       [ 1.55255  , -2.7685   , -0.250655 ],\n",
       "       [ 0.701658 , -2.42647  , -0.657979 ],\n",
       "       [ 0.472204 , -3.17754  , -1.27926  ],\n",
       "       [-0.379032 , -2.84117  , -1.6858   ],\n",
       "       [-0.620731 , -3.60637  , -2.28434  ],\n",
       "       [-1.46949  , -3.2657   , -2.68864  ],\n",
       "       [-1.74094  , -4.03792  , -3.27082  ],\n",
       "       [-2.59144  , -3.67066  , -3.64141  ],\n",
       "       [-2.95141  , -4.38933  , -4.24503  ]])"
      ]
     },
     "execution_count": 30,
     "metadata": {},
     "output_type": "execute_result"
    }
   ],
   "source": []
  },
  {
   "cell_type": "code",
   "execution_count": 45,
   "metadata": {},
   "outputs": [
    {
     "data": {
      "text/plain": [
       "array([[  1.69725920e-15,   1.48963630e+00,   1.55508587e+00,\n",
       "          1.85433302e+00,   2.48216667e+00,   3.66993775e+00,\n",
       "          4.91586637e+00,   3.06416618e+00,   2.43053163e+00,\n",
       "          2.44228518e+00],\n",
       "       [  1.48963630e+00,   8.77325180e-16,   1.94503610e+00,\n",
       "          1.65697603e+00,   2.28899802e+00,   5.10407167e+00,\n",
       "          5.94866812e+00,   3.12213288e+00,   1.74718927e+00,\n",
       "          2.28986553e+00],\n",
       "       [  1.55508587e+00,   1.94503610e+00,   1.05462952e-15,\n",
       "          2.82022583e+00,   1.23664047e+00,   4.45437801e+00,\n",
       "          5.67377174e+00,   2.67908247e+00,   3.25192547e+00,\n",
       "          1.31190824e+00],\n",
       "       [  1.85433302e+00,   1.65697603e+00,   2.82022583e+00,\n",
       "          1.64776499e-15,   1.84639234e+00,   4.35783431e+00,\n",
       "          4.54259775e+00,   1.82873069e+00,   1.27829017e+00,\n",
       "          1.79602237e+00],\n",
       "       [  2.48216667e+00,   2.28899802e+00,   1.23664047e+00,\n",
       "          1.84639234e+00,   1.04153612e-15,   4.59017395e+00,\n",
       "          4.92028149e+00,   1.80754691e+00,   2.79032537e+00,\n",
       "          9.85818682e-02],\n",
       "       [  3.66993775e+00,   5.10407167e+00,   4.45437801e+00,\n",
       "          4.35783431e+00,   4.59017395e+00,   1.59536053e-15,\n",
       "          2.52868499e+00,   4.42745452e+00,   5.08391971e+00,\n",
       "          4.54441024e+00],\n",
       "       [  4.91586637e+00,   5.94866812e+00,   5.67377174e+00,\n",
       "          4.54259775e+00,   4.92028149e+00,   2.52868499e+00,\n",
       "          5.66845881e-15,   4.27002839e+00,   5.32224343e+00,\n",
       "          4.83699248e+00],\n",
       "       [  3.06416618e+00,   3.12213288e+00,   2.67908247e+00,\n",
       "          1.82873069e+00,   1.80754691e+00,   4.42745452e+00,\n",
       "          4.27002839e+00,   1.45126017e-15,   2.33109577e+00,\n",
       "          1.79136451e+00],\n",
       "       [  2.43053163e+00,   1.74718927e+00,   3.25192547e+00,\n",
       "          1.27829017e+00,   2.79032537e+00,   5.08391971e+00,\n",
       "          5.32224343e+00,   2.33109577e+00,   1.32428820e-15,\n",
       "          2.77619935e+00],\n",
       "       [  2.44228518e+00,   2.28986553e+00,   1.31190824e+00,\n",
       "          1.79602237e+00,   9.85818682e-02,   4.54441024e+00,\n",
       "          4.83699248e+00,   1.79136451e+00,   2.77619935e+00,\n",
       "          1.64386555e-15]])"
      ]
     },
     "execution_count": 45,
     "metadata": {},
     "output_type": "execute_result"
    }
   ],
   "source": [
    "N = len(low_10)\n",
    "mat = np.zeros((N,N))\n",
    "for ii,i in enumerate(low_10):\n",
    "    for jj,j in enumerate(low_10):\n",
    "        mat[ii,jj] = float(rmsd.kabsch_rmsd(i,j))\n",
    "mat"
   ]
  },
  {
   "cell_type": "code",
   "execution_count": 38,
   "metadata": {},
   "outputs": [
    {
     "data": {
      "text/plain": [
       "1.4896362969055272"
      ]
     },
     "execution_count": 38,
     "metadata": {},
     "output_type": "execute_result"
    }
   ],
   "source": [
    "rmsd.kabsch_rmsd(low_10[0],low_10[1])"
   ]
  },
  {
   "cell_type": "code",
   "execution_count": 60,
   "metadata": {},
   "outputs": [
    {
     "name": "stderr",
     "output_type": "stream",
     "text": [
      "C:\\Users\\Alaa Eddine MAHI\\Anaconda3\\lib\\site-packages\\sklearn\\manifold\\mds.py:411: UserWarning: The MDS API has changed. ``fit`` now constructs an dissimilarity matrix from data. To use a custom dissimilarity matrix, set ``dissimilarity='precomputed'``.\n",
      "  warnings.warn(\"The MDS API has changed. ``fit`` now constructs an\"\n"
     ]
    },
    {
     "data": {
      "text/plain": [
       "<matplotlib.collections.PathCollection at 0x1b602ecb2e8>"
      ]
     },
     "execution_count": 60,
     "metadata": {},
     "output_type": "execute_result"
    },
    {
     "data": {
      "image/png": "[encoded data removed]",
      "text/plain": [
       "<matplotlib.figure.Figure at 0x1b602e1abe0>"
      ]
     },
     "metadata": {},
     "output_type": "display_data"
    }
   ],
   "source": [
    "mds = MDS(n_components=2)\n",
    "y = mds.fit_transform(mat)\n",
    "plt.scatter(y[:,0],y[:,1])"
   ]
  },
  {
   "cell_type": "code",
   "execution_count": 6,
   "metadata": {},
   "outputs": [],
   "source": [
    "file1 = np.loadtxt('C:/Users/Alaa Eddine MAHI/Desktop/hybrid-TRRT-BH-BLN__energies_below_100.txt')"
   ]
  },
  {
   "cell_type": "code",
   "execution_count": 11,
   "metadata": {},
   "outputs": [
    {
     "data": {
      "text/plain": [
       "-105.1596192497542"
      ]
     },
     "execution_count": 11,
     "metadata": {},
     "output_type": "execute_result"
    }
   ],
   "source": [
    "file1[14725]"
   ]
  },
  {
   "cell_type": "code",
   "execution_count": 12,
   "metadata": {},
   "outputs": [
    {
     "data": {
      "text/plain": [
       "array([-0.443011  , -3.39488   , -1.50674   , -0.0881039 , -2.47683   ,\n",
       "       -1.59938   , -0.0323569 , -2.15776   , -0.673527  ,  0.347335  ,\n",
       "       -1.25643   , -0.807078  ,  0.398899  , -0.92791   ,  0.119517  ,\n",
       "        0.776316  , -0.0263178 , -0.00458287,  0.831742  ,  0.296012  ,\n",
       "        0.9263    ,  1.19588   ,  1.19112   ,  0.764172  ,  1.30102   ,\n",
       "        1.65561   ,  1.63053   ,  2.03675   ,  1.21873   ,  2.1488    ,\n",
       "        2.34008   ,  1.90945   ,  2.81602   ,  1.52084   ,  2.31152   ,\n",
       "        3.23743   ,  0.91638   ,  1.53052   ,  3.37323   ,  0.645101  ,\n",
       "        1.26897   ,  2.43773   ,  0.189137  ,  0.397065  ,  2.60076   ,\n",
       "        0.0470952 ,  0.0768093 ,  1.66783   , -0.329784  , -0.838078  ,\n",
       "        1.79911   , -0.401308  , -1.16952   ,  0.859051  , -0.763597  ,\n",
       "       -2.09396   ,  0.985825  , -0.823673  , -2.43327   ,  0.0506878 ,\n",
       "       -1.19763   , -3.35866   ,  0.176966  , -2.09715   , -3.3329    ,\n",
       "       -0.260861  , -1.85416   , -3.11547   , -1.20244   , -1.04064   ,\n",
       "       -2.54196   , -1.05924   , -1.39945   , -1.74727   , -0.592162  ,\n",
       "       -0.593526  , -1.28818   , -0.265813  , -0.970116  , -0.503054  ,\n",
       "        0.193333  , -0.163683  , -0.0611295 ,  0.545909  , -0.531185  ,\n",
       "        0.733327  ,  1.00607   ,  0.283046  ,  1.18381   ,  1.33109   ,\n",
       "       -0.101641  ,  1.91717   ,  1.83578   ,  0.689549  ,  2.40608   ,\n",
       "        2.16217   ,  0.27953   ,  3.11614   ,  2.73341   , -0.597641  ,\n",
       "        3.2669    ,  2.28274   , -0.330999  ,  3.46688   ,  1.34274   ,\n",
       "       -0.833228  ,  2.84162   ,  0.742896  , -0.423578  ,  1.90697   ,\n",
       "        0.725788  , -1.07512   ,  1.53962   ,  0.053239  , -0.796155  ,\n",
       "        0.591115  , -0.0987534 , -1.48798   ,  0.309999  , -0.767568  ,\n",
       "       -1.23022   , -0.644292  , -0.92406   , -1.93201   , -0.927126  ,\n",
       "       -1.5814    , -1.66666   , -1.87702   , -1.72416   , -2.39442   ,\n",
       "       -2.20111   , -2.34647   , -1.98495   , -2.31213   , -3.2552    ,\n",
       "       -1.31044   , -3.02278   , -3.07841   , -1.0531    , -2.74625   ,\n",
       "       -2.15544   , -0.697479  , -1.83461   , -2.26984   , -0.614432  ,\n",
       "       -1.5293    , -1.34239   , -0.259044  , -0.622136  , -1.46529   ,\n",
       "       -0.186067  , -0.293847  , -0.543218  ,  0.166814  ,  0.613177  ,\n",
       "       -0.662099  ,  0.235263  ,  0.929726  ,  0.262164  ,  0.548007  ,\n",
       "        1.84567   ,  0.138875  ,  0.617193  ,  2.24898   ,  1.03567   ,\n",
       "        0.85453   ,  3.19388   ,  0.775792  ,  1.24989   ,  3.66217   ,\n",
       "        1.56494   ,  2.13106   ,  3.21313   ,  1.7       ,  2.3765    ,\n",
       "        2.84342   ,  0.801604  ,  1.66584   ,  2.15492   ,  0.613832  ,\n",
       "        1.92145   ,  1.71348   , -0.252471  ,  1.20419   ,  1.00461   ,\n",
       "       -0.321328  ,  1.47053   ,  0.485889  , -1.13328   ,  0.772898  ,\n",
       "       -0.235664  , -1.12944   ,  1.04888   , -0.771522  , -1.92873   ,\n",
       "        0.356353  , -1.49303   , -1.92223   ,  0.639287  , -2.05078   ,\n",
       "       -2.70853   , -0.0583627 , -2.76284   , -2.66405   ,  0.148362  ,\n",
       "       -3.38674   , -3.42458   ])"
      ]
     },
     "execution_count": 12,
     "metadata": {},
     "output_type": "execute_result"
    }
   ],
   "source": [
    "file[0][1:]"
   ]
  },
  {
   "cell_type": "code",
   "execution_count": 22,
   "metadata": {},
   "outputs": [
    {
     "data": {
      "text/plain": [
       "666113"
      ]
     },
     "execution_count": 22,
     "metadata": {},
     "output_type": "execute_result"
    }
   ],
   "source": [
    "len(file)"
   ]
  },
  {
   "cell_type": "code",
   "execution_count": 24,
   "metadata": {},
   "outputs": [],
   "source": [
    "x = []\n",
    "y = []\n",
    "for i in range(len(file)):\n",
    "    x.append(rmsd.kabsch_rmsd(file[0][1:].reshape(-1,3),file[i][1:].reshape(-1,3)))\n",
    "    y.append(file1[i])"
   ]
  },
  {
   "cell_type": "code",
   "execution_count": 25,
   "metadata": {
    "collapsed": true
   },
   "outputs": [],
   "source": [
    "from scipy.interpolate import interp1d\n",
    "x_array =  np.asarray(x)\n",
    "y_array = np.asarray(y)\n",
    "f = interp1d(x_array, y_array, kind='cubic')"
   ]
  },
  {
   "cell_type": "code",
   "execution_count": 26,
   "metadata": {
    "collapsed": true
   },
   "outputs": [],
   "source": [
    "np.savetxt('coords.txt', x_array)"
   ]
  },
  {
   "cell_type": "code",
   "execution_count": 33,
   "metadata": {
    "collapsed": true
   },
   "outputs": [],
   "source": [
    "import pickle\n",
    "with open('interpolator.pkl', 'wb') as file:\n",
    "    pickle.dump(f, file)"
   ]
  },
  {
   "cell_type": "code",
   "execution_count": 31,
   "metadata": {},
   "outputs": [
    {
     "data": {
      "text/plain": [
       "[<matplotlib.lines.Line2D at 0x192899f9588>]"
      ]
     },
     "execution_count": 31,
     "metadata": {},
     "output_type": "execute_result"
    },
    {
     "data": {
      "image/png": "[encoded data removed]",
      "text/plain": [
       "<matplotlib.figure.Figure at 0x1939e031860>"
      ]
     },
     "metadata": {},
     "output_type": "display_data"
    }
   ],
   "source": [
    "plt.plot(x_array, f(x_array))"
   ]
  },
  {
   "cell_type": "code",
   "execution_count": 32,
   "metadata": {},
   "outputs": [
    {
     "data": {
      "text/plain": [
       "array([  9.15246510e-16,   1.65072584e-01,   1.62209948e-01, ...,\n",
       "         7.24027458e+00,   7.21196474e+00,   7.18345562e+00])"
      ]
     },
     "execution_count": 32,
     "metadata": {},
     "output_type": "execute_result"
    }
   ],
   "source": [
    "x_array"
   ]
  },
  {
   "cell_type": "code",
   "execution_count": 36,
   "metadata": {},
   "outputs": [
    {
     "ename": "ModuleNotFoundError",
     "evalue": "No module named 'rpy2'",
     "output_type": "error",
     "traceback": [
      "\u001b[1;31m---------------------------------------------------------------------------\u001b[0m",
      "\u001b[1;31mModuleNotFoundError\u001b[0m                       Traceback (most recent call last)",
      "\u001b[1;32m<ipython-input-36-55ae5ab0105a>\u001b[0m in \u001b[0;36m<module>\u001b[1;34m()\u001b[0m\n\u001b[1;32m----> 1\u001b[1;33m \u001b[1;32mfrom\u001b[0m \u001b[0mrpy2\u001b[0m \u001b[1;32mimport\u001b[0m \u001b[0mrobjects\u001b[0m \u001b[1;32mas\u001b[0m \u001b[0mro\u001b[0m\u001b[1;33m\u001b[0m\u001b[0m\n\u001b[0m\u001b[0;32m      2\u001b[0m \u001b[0mro\u001b[0m\u001b[1;33m.\u001b[0m\u001b[0mconversion\u001b[0m\u001b[1;33m.\u001b[0m\u001b[0mpy2ri\u001b[0m \u001b[1;33m=\u001b[0m \u001b[0mro\u001b[0m\u001b[1;33m.\u001b[0m\u001b[0mnumpy2ri\u001b[0m\u001b[1;33m\u001b[0m\u001b[0m\n\u001b[0;32m      3\u001b[0m \u001b[0mro\u001b[0m\u001b[1;33m.\u001b[0m\u001b[0mnumpy2ri\u001b[0m\u001b[1;33m.\u001b[0m\u001b[0mactivate\u001b[0m\u001b[1;33m(\u001b[0m\u001b[1;33m)\u001b[0m\u001b[1;33m\u001b[0m\u001b[0m\n",
      "\u001b[1;31mModuleNotFoundError\u001b[0m: No module named 'rpy2'"
     ]
    }
   ],
   "source": [
    "from rpy2 import robjects as ro\n",
    "ro.conversion.py2ri = ro.numpy2ri\n",
    "ro.numpy2ri.activate()"
   ]
  },
  {
   "cell_type": "code",
   "execution_count": null,
   "metadata": {
    "collapsed": true
   },
   "outputs": [],
   "source": []
  }
 ],
 "metadata": {
  "kernelspec": {
   "display_name": "Python 3",
   "language": "python",
   "name": "python3"
  },
  "language_info": {
   "codemirror_mode": {
    "name": "ipython",
    "version": 3
   },
   "file_extension": ".py",
   "mimetype": "text/x-python",
   "name": "python",
   "nbconvert_exporter": "python",
   "pygments_lexer": "ipython3",
   "version": "3.6.1"
  }
 },
 "nbformat": 4,
 "nbformat_minor": 2
}
