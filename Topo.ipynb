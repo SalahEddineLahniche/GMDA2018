{
 "cells": [
  {
   "cell_type": "code",
   "execution_count": 2,
   "metadata": {
    "collapsed": true
   },
   "outputs": [],
   "source": [
    "import numpy as np\n",
    "import rmsd"
   ]
  },
  {
   "cell_type": "code",
   "execution_count": 3,
   "metadata": {
    "collapsed": true
   },
   "outputs": [],
   "source": [
    "file = np.loadtxt('C:/Users/Alaa Eddine MAHI/Desktop/hybrid-TRRT-BH-BLN__minima_below_100.txt')"
   ]
  },
  {
   "cell_type": "code",
   "execution_count": 4,
   "metadata": {},
   "outputs": [
    {
     "data": {
      "text/plain": [
       "(208,)"
      ]
     },
     "execution_count": 4,
     "metadata": {},
     "output_type": "execute_result"
    }
   ],
   "source": [
    "np.shape(file[0])"
   ]
  },
  {
   "cell_type": "code",
   "execution_count": 5,
   "metadata": {},
   "outputs": [
    {
     "data": {
      "text/plain": [
       "207"
      ]
     },
     "execution_count": 5,
     "metadata": {},
     "output_type": "execute_result"
    }
   ],
   "source": [
    "np.size(file[14215][1:])"
   ]
  },
  {
   "cell_type": "code",
   "execution_count": 6,
   "metadata": {},
   "outputs": [
    {
     "data": {
      "text/plain": [
       "array([[ 2.59927 , -1.52362 , -3.22789 ],\n",
       "       [ 2.33363 , -1.14446 , -2.35701 ],\n",
       "       [ 2.41286 , -0.164554, -2.41482 ],\n",
       "       [ 2.15662 ,  0.113271, -1.50949 ],\n",
       "       [ 2.27824 ,  1.09417 , -1.52357 ],\n",
       "       [ 2.01834 ,  1.34884 , -0.611599],\n",
       "       [ 2.18652 ,  2.32387 , -0.567543],\n",
       "       [ 1.92618 ,  2.57345 ,  0.355252],\n",
       "       [ 2.20657 ,  3.52133 ,  0.358836],\n",
       "       [ 1.9897  ,  3.98956 ,  1.21651 ],\n",
       "       [ 2.78314 ,  4.56685 ,  1.37528 ],\n",
       "       [ 3.51827 ,  3.90716 ,  1.52538 ],\n",
       "       [ 3.76377 ,  3.48968 ,  0.644358],\n",
       "       [ 3.08642 ,  2.79395 ,  0.339985],\n",
       "       [ 3.59525 ,  2.45946 , -0.470218],\n",
       "       [ 3.07869 ,  1.66448 , -0.813454],\n",
       "       [ 3.65997 ,  1.32124 , -1.56022 ],\n",
       "       [ 3.1872  ,  0.469172, -1.81631 ],\n",
       "       [ 3.75969 ,  0.115841, -2.56587 ],\n",
       "       [ 3.28661 , -0.738321, -2.79026 ],\n",
       "       [ 3.79991 , -1.07879 , -3.58749 ],\n",
       "       [ 4.6111  , -1.4917  , -3.18582 ],\n",
       "       [ 4.26415 , -1.67421 , -2.27262 ],\n",
       "       [ 3.2849  , -1.8447  , -2.41992 ],\n",
       "       [ 2.90238 , -1.60267 , -1.54861 ],\n",
       "       [ 3.01914 , -0.632762, -1.61358 ],\n",
       "       [ 2.7155  , -0.382794, -0.717599],\n",
       "       [ 2.8363  ,  0.581651, -0.736271],\n",
       "       [ 2.55433 ,  0.800815,  0.173731],\n",
       "       [ 2.66791 ,  1.76215 ,  0.215931],\n",
       "       [ 2.39687 ,  1.8837  ,  1.14079 ],\n",
       "       [ 2.44803 ,  2.84654 ,  1.30149 ],\n",
       "       [ 2.4293  ,  2.85488 ,  2.30587 ],\n",
       "       [ 1.71279 ,  3.46177 ,  2.63594 ],\n",
       "       [ 0.859356,  2.94591 ,  2.56676 ],\n",
       "       [ 1.06996 ,  1.9667  ,  2.50655 ],\n",
       "       [ 1.36403 ,  1.74574 ,  1.56077 ],\n",
       "       [ 1.43196 ,  0.741174,  1.62088 ],\n",
       "       [ 1.65995 ,  0.432554,  0.693442],\n",
       "       [ 1.68327 , -0.567979,  0.764073],\n",
       "       [ 1.88304 , -0.861705, -0.174895],\n",
       "       [ 1.88552 , -1.86433 , -0.110699],\n",
       "       [ 2.07806 , -2.14659 , -1.04994 ],\n",
       "       [ 2.04542 , -3.15232 , -1.01967 ],\n",
       "       [ 1.41568 , -3.4284  , -1.75267 ],\n",
       "       [ 1.83403 , -3.04493 , -2.57415 ],\n",
       "       [ 2.25934 , -2.22707 , -2.19128 ],\n",
       "       [ 1.51693 , -1.65684 , -1.84441 ],\n",
       "       [ 2.01356 , -0.981813, -1.32305 ],\n",
       "       [ 1.31225 , -0.374432, -1.00051 ],\n",
       "       [ 1.82801 ,  0.258222, -0.452921],\n",
       "       [ 1.13412 ,  0.89456 , -0.162733],\n",
       "       [ 1.63521 ,  1.52279 ,  0.406281],\n",
       "       [ 0.920942,  2.1614  ,  0.629031],\n",
       "       [ 1.30611 ,  2.86206 ,  1.21438 ],\n",
       "       [ 0.469974,  3.39853 ,  1.40588 ],\n",
       "       [ 0.71596 ,  4.30139 ,  1.76578 ],\n",
       "       [ 1.02702 ,  4.8165  ,  0.966585],\n",
       "       [ 0.671093,  4.29465 ,  0.191629],\n",
       "       [ 1.09488 ,  3.37688 ,  0.237924],\n",
       "       [ 0.685384,  2.92247 , -0.542233],\n",
       "       [ 1.12845 ,  2.03063 , -0.476492],\n",
       "       [ 0.739765,  1.59968 , -1.28624 ],\n",
       "       [ 1.24244 ,  0.739653, -1.28553 ],\n",
       "       [ 0.854649,  0.313493, -2.10307 ],\n",
       "       [ 1.38749 , -0.530517, -2.13752 ],\n",
       "       [ 0.994586, -0.966272, -2.95032 ],\n",
       "       [ 1.55705 , -1.78644 , -2.96106 ],\n",
       "       [ 1.22882 , -2.31883 , -3.75035 ]])"
      ]
     },
     "execution_count": 6,
     "metadata": {},
     "output_type": "execute_result"
    }
   ],
   "source": [
    "file[14215][1:].reshape(-1,3)"
   ]
  },
  {
   "cell_type": "code",
   "execution_count": 20,
   "metadata": {},
   "outputs": [
    {
     "data": {
      "text/plain": [
       "array([[  5.06460449e-01,  -2.32190648e+00,  -2.65773654e+00,\n",
       "          2.40820449e-01,  -1.94274648e+00,  -1.78685654e+00,\n",
       "          3.20050449e-01,  -9.62840478e-01,  -1.84466654e+00,\n",
       "          6.38104493e-02,  -6.85015478e-01,  -9.39336536e-01,\n",
       "          1.85430449e-01,   2.95883522e-01,  -9.53416536e-01,\n",
       "         -7.44695507e-02,   5.50553522e-01,  -4.14455362e-02,\n",
       "          9.37104493e-02,   1.52558352e+00,   2.61046377e-03,\n",
       "         -1.66629551e-01,   1.77516352e+00,   9.25405464e-01,\n",
       "          1.13760449e-01,   2.72304352e+00,   9.28989464e-01,\n",
       "         -1.03109551e-01,   3.19127352e+00,   1.78666346e+00,\n",
       "          6.90330449e-01,   3.76856352e+00,   1.94543346e+00,\n",
       "          1.42546045e+00,   3.10887352e+00,   2.09553346e+00,\n",
       "          1.67096045e+00,   2.69139352e+00,   1.21451146e+00,\n",
       "          9.93610449e-01,   1.99566352e+00,   9.10138464e-01,\n",
       "          1.50244045e+00,   1.66117352e+00,   9.99354638e-02,\n",
       "          9.85880449e-01,   8.66193522e-01,  -2.43300536e-01,\n",
       "          1.56716045e+00,   5.22953522e-01,  -9.90066536e-01,\n",
       "          1.09439045e+00,  -3.29114478e-01,  -1.24615654e+00,\n",
       "          1.66688045e+00,  -6.82445478e-01,  -1.99571654e+00,\n",
       "          1.19380045e+00,  -1.53660748e+00,  -2.22010654e+00,\n",
       "          1.70710045e+00,  -1.87707648e+00,  -3.01733654e+00,\n",
       "          2.51829045e+00,  -2.28998648e+00,  -2.61566654e+00,\n",
       "          2.17134045e+00,  -2.47249648e+00,  -1.70246654e+00,\n",
       "          1.19209045e+00,  -2.64298648e+00,  -1.84976654e+00,\n",
       "          8.09570449e-01,  -2.40095648e+00,  -9.78456536e-01,\n",
       "          9.26330449e-01,  -1.43104848e+00,  -1.04342654e+00,\n",
       "          6.22690449e-01,  -1.18108048e+00,  -1.47445536e-01,\n",
       "          7.43490449e-01,  -2.16635478e-01,  -1.66117536e-01,\n",
       "          4.61520449e-01,   2.52852174e-03,   7.43884464e-01,\n",
       "          5.75100449e-01,   9.63863522e-01,   7.86084464e-01,\n",
       "          3.04060449e-01,   1.08541352e+00,   1.71094346e+00,\n",
       "          3.55220449e-01,   2.04825352e+00,   1.87164346e+00,\n",
       "          3.36490449e-01,   2.05659352e+00,   2.87602346e+00,\n",
       "         -3.80019551e-01,   2.66348352e+00,   3.20609346e+00,\n",
       "         -1.23345355e+00,   2.14762352e+00,   3.13691346e+00,\n",
       "         -1.02284955e+00,   1.16841352e+00,   3.07670346e+00,\n",
       "         -7.28779551e-01,   9.47453522e-01,   2.13092346e+00,\n",
       "         -6.60849551e-01,  -5.71124783e-02,   2.19103346e+00,\n",
       "         -4.32859551e-01,  -3.65732478e-01,   1.26359546e+00,\n",
       "         -4.09539551e-01,  -1.36626548e+00,   1.33422646e+00,\n",
       "         -2.09769551e-01,  -1.65999148e+00,   3.95258464e-01,\n",
       "         -2.07289551e-01,  -2.66261648e+00,   4.59454464e-01,\n",
       "         -1.47495507e-02,  -2.94487648e+00,  -4.79786536e-01,\n",
       "         -4.73895507e-02,  -3.95060648e+00,  -4.49516536e-01,\n",
       "         -6.77129551e-01,  -4.22668648e+00,  -1.18251654e+00,\n",
       "         -2.58779551e-01,  -3.84321648e+00,  -2.00399654e+00,\n",
       "          1.66530449e-01,  -3.02535648e+00,  -1.62112654e+00,\n",
       "         -5.75879551e-01,  -2.45512648e+00,  -1.27425654e+00,\n",
       "         -7.92495507e-02,  -1.78009948e+00,  -7.52896536e-01,\n",
       "         -7.80559551e-01,  -1.17271848e+00,  -4.30356536e-01,\n",
       "         -2.64799551e-01,  -5.40064478e-01,   1.17232464e-01,\n",
       "         -9.58689551e-01,   9.62735217e-02,   4.07420464e-01,\n",
       "         -4.57599551e-01,   7.24503522e-01,   9.76434464e-01,\n",
       "         -1.17186755e+00,   1.36311352e+00,   1.19918446e+00,\n",
       "         -7.86699551e-01,   2.06377352e+00,   1.78453346e+00,\n",
       "         -1.62283555e+00,   2.60024352e+00,   1.97603346e+00,\n",
       "         -1.37684955e+00,   3.50310352e+00,   2.33593346e+00,\n",
       "         -1.06578955e+00,   4.01821352e+00,   1.53673846e+00,\n",
       "         -1.42171655e+00,   3.49636352e+00,   7.61782464e-01,\n",
       "         -9.97929551e-01,   2.57859352e+00,   8.08077464e-01,\n",
       "         -1.40742555e+00,   2.12418352e+00,   2.79204638e-02,\n",
       "         -9.64359551e-01,   1.23234352e+00,   9.36614638e-02,\n",
       "         -1.35304455e+00,   8.01393522e-01,  -7.16086536e-01,\n",
       "         -8.50369551e-01,  -5.86334783e-02,  -7.15376536e-01,\n",
       "         -1.23816055e+00,  -4.84793478e-01,  -1.53291654e+00,\n",
       "         -7.05319551e-01,  -1.32880348e+00,  -1.56736654e+00,\n",
       "         -1.09822355e+00,  -1.76455848e+00,  -2.38016654e+00,\n",
       "         -5.35759551e-01,  -2.58472648e+00,  -2.39090654e+00,\n",
       "         -8.63989551e-01,  -3.11711648e+00,  -3.18019654e+00],\n",
       "       [ -1.37823131e+00,  -1.38997891e+00,  -2.53460425e+00,\n",
       "         -1.56277131e+00,  -9.05838913e-01,  -1.69487425e+00,\n",
       "         -7.04251313e-01,  -4.54098913e-01,  -1.55954425e+00,\n",
       "         -8.70001313e-01,   4.84310870e-02,  -7.37754246e-01,\n",
       "          5.73868696e-03,   4.66591087e-01,  -6.21454246e-01,\n",
       "         -1.20121313e-01,   1.00315109e+00,   1.76285754e-01,\n",
       "          7.88813687e-01,   1.35389109e+00,   2.47965754e-01,\n",
       "          7.60512687e-01,   1.92409109e+00,   1.02664575e+00,\n",
       "          1.70606369e+00,   2.10809109e+00,   8.66255754e-01,\n",
       "          2.07300969e+00,   2.75872109e+00,   1.51534575e+00,\n",
       "          3.03204869e+00,   2.66221109e+00,   1.27312575e+00,\n",
       "          3.15984869e+00,   1.66613109e+00,   1.25957575e+00,\n",
       "          2.86344869e+00,   1.26758109e+00,   3.78125754e-01,\n",
       "          1.88152169e+00,   9.81581087e-01,   3.52485754e-01,\n",
       "          1.89845769e+00,   5.03451087e-01,  -5.45584246e-01,\n",
       "          1.01428469e+00,   4.49110870e-02,  -7.16784246e-01,\n",
       "          1.14509269e+00,  -4.34988913e-01,  -1.59140425e+00,\n",
       "          2.75428687e-01,  -9.16908913e-01,  -1.75583425e+00,\n",
       "          4.46318687e-01,  -1.41864891e+00,  -2.60906425e+00,\n",
       "         -4.05951313e-01,  -1.90895891e+00,  -2.81100425e+00,\n",
       "         -1.24771313e-01,  -2.44640891e+00,  -3.62229725e+00,\n",
       "         -8.87621313e-01,  -3.01038391e+00,  -3.95861825e+00,\n",
       "         -1.33989131e+00,  -3.34488491e+00,  -3.13602425e+00,\n",
       "         -1.38980131e+00,  -2.47276891e+00,  -2.67029425e+00,\n",
       "         -7.18001313e-01,  -2.50690891e+00,  -1.94234425e+00,\n",
       "         -6.97111313e-01,  -1.56404891e+00,  -1.66922425e+00,\n",
       "         -6.10913130e-02,  -1.57854891e+00,  -9.26464246e-01,\n",
       "         -1.00713130e-02,  -6.28908913e-01,  -6.89694246e-01,\n",
       "          6.18764687e-01,  -6.57558913e-01,   5.93757536e-02,\n",
       "          6.82733687e-01,   2.85961087e-01,   3.02795754e-01,\n",
       "          1.33565869e+00,   2.50731087e-01,   1.03218575e+00,\n",
       "          1.48123599e+00,   1.16194109e+00,   1.39323575e+00,\n",
       "          2.24069469e+00,   9.46841087e-01,   2.02355575e+00,\n",
       "          2.36541769e+00,   1.68309109e+00,   2.68873575e+00,\n",
       "          1.62883259e+00,   1.55735109e+00,   3.35348575e+00,\n",
       "          1.24980769e+00,   6.50561087e-01,   3.17079575e+00,\n",
       "          9.46735687e-01,   6.39581087e-01,   2.20580575e+00,\n",
       "          5.95251687e-01,  -2.89788913e-01,   2.12537575e+00,\n",
       "          3.31528687e-01,  -3.25558913e-01,   1.16125575e+00,\n",
       "         -4.47413130e-02,  -1.25226891e+00,   1.11292575e+00,\n",
       "         -3.33141313e-01,  -1.29482891e+00,   1.55825754e-01,\n",
       "         -6.99841313e-01,  -2.22847891e+00,   1.04955754e-01,\n",
       "         -9.81001313e-01,  -2.27545891e+00,  -8.53614246e-01,\n",
       "         -1.30962131e+00,  -3.22989791e+00,  -9.14554246e-01,\n",
       "         -2.31058131e+00,  -3.19234491e+00,  -9.22734246e-01,\n",
       "         -2.47520131e+00,  -2.67220791e+00,  -1.75577425e+00,\n",
       "         -1.70031131e+00,  -2.04247891e+00,  -1.69872425e+00,\n",
       "         -1.85394131e+00,  -1.56377891e+00,  -8.49914246e-01,\n",
       "         -1.01998131e+00,  -1.07100891e+00,  -7.21934246e-01,\n",
       "         -1.18438131e+00,  -5.70118913e-01,   1.11135754e-01,\n",
       "         -3.25681313e-01,  -1.16508913e-01,   2.45425754e-01,\n",
       "         -4.54531313e-01,   4.45391087e-01,   1.04985575e+00,\n",
       "          4.23928687e-01,   8.77071087e-01,   1.17084575e+00,\n",
       "          2.65368687e-01,   1.47989109e+00,   1.92810575e+00,\n",
       "          1.11406569e+00,   1.96519109e+00,   2.08030575e+00,\n",
       "          8.83532687e-01,   2.52202109e+00,   2.88846575e+00,\n",
       "          1.59061209e+00,   3.22070109e+00,   3.00170575e+00,\n",
       "          1.43133169e+00,   3.85844109e+00,   2.24927575e+00,\n",
       "          4.72278687e-01,   3.71602109e+00,   2.00071575e+00,\n",
       "          4.45298687e-01,   2.76844109e+00,   1.66406575e+00,\n",
       "         -4.92181313e-01,   2.59646109e+00,   1.37769575e+00,\n",
       "         -3.86951313e-01,   1.66638109e+00,   1.01471575e+00,\n",
       "         -1.30846131e+00,   1.48775109e+00,   6.54015754e-01,\n",
       "         -1.18242131e+00,   6.06521087e-01,   1.87605754e-01,\n",
       "         -2.08649131e+00,   4.48701087e-01,  -2.18594246e-01,\n",
       "         -1.91877131e+00,  -3.88128913e-01,  -7.47564246e-01,\n",
       "         -2.80834131e+00,  -5.42078913e-01,  -1.18529425e+00,\n",
       "         -2.58077131e+00,  -1.34751891e+00,  -1.72891425e+00,\n",
       "         -3.42663131e+00,  -1.58157891e+00,  -2.21957425e+00]])"
      ]
     },
     "execution_count": 20,
     "metadata": {},
     "output_type": "execute_result"
    }
   ],
   "source": [
    "P = file[14215][1:].reshape(-1,3)\n",
    "Q = file[7210][1:].reshape(-1,3)\n",
    "np.concatenate([P,Q], axis=0).reshape(2,-1)"
   ]
  },
  {
   "cell_type": "code",
   "execution_count": 8,
   "metadata": {},
   "outputs": [
    {
     "name": "stdout",
     "output_type": "stream",
     "text": [
      "RMSD before translation:  4.66096955595\n",
      "RMSD before translation:  0.511086677229\n"
     ]
    }
   ],
   "source": [
    "print (\"RMSD before translation: \", rmsd.kabsch_rmsd(P, Q))\n",
    "P -= rmsd.centroid(P)\n",
    "Q -= rmsd.centroid(Q)\n",
    "print (\"RMSD after translation: \", rmsd.kabsch_rmsd(P, Q))"
   ]
  },
  {
   "cell_type": "code",
   "execution_count": 12,
   "metadata": {},
   "outputs": [],
   "source": [
    "mat = rmsd.kabsch_rotate(P,Q)"
   ]
  },
  {
   "cell_type": "code",
   "execution_count": 44,
   "metadata": {
    "collapsed": true
   },
   "outputs": [],
   "source": [
    "X = file[14215][1:].reshape(-1, 3).T"
   ]
  },
  {
   "cell_type": "code",
   "execution_count": 47,
   "metadata": {
    "collapsed": true
   },
   "outputs": [],
   "source": [
    "X1 = X[0].T\n",
    "X2 = X[1].T\n",
    "X3 = X[2].T"
   ]
  },
  {
   "cell_type": "code",
   "execution_count": 46,
   "metadata": {},
   "outputs": [
    {
     "data": {
      "text/plain": [
       "array([-1.52362 , -1.14446 , -0.164554,  0.113271,  1.09417 ,  1.34884 ,\n",
       "        2.32387 ,  2.57345 ,  3.52133 ,  3.98956 ,  4.56685 ,  3.90716 ,\n",
       "        3.48968 ,  2.79395 ,  2.45946 ,  1.66448 ,  1.32124 ,  0.469172,\n",
       "        0.115841, -0.738321, -1.07879 , -1.4917  , -1.67421 , -1.8447  ,\n",
       "       -1.60267 , -0.632762, -0.382794,  0.581651,  0.800815,  1.76215 ,\n",
       "        1.8837  ,  2.84654 ,  2.85488 ,  3.46177 ,  2.94591 ,  1.9667  ,\n",
       "        1.74574 ,  0.741174,  0.432554, -0.567979, -0.861705, -1.86433 ,\n",
       "       -2.14659 , -3.15232 , -3.4284  , -3.04493 , -2.22707 , -1.65684 ,\n",
       "       -0.981813, -0.374432,  0.258222,  0.89456 ,  1.52279 ,  2.1614  ,\n",
       "        2.86206 ,  3.39853 ,  4.30139 ,  4.8165  ,  4.29465 ,  3.37688 ,\n",
       "        2.92247 ,  2.03063 ,  1.59968 ,  0.739653,  0.313493, -0.530517,\n",
       "       -0.966272, -1.78644 , -2.31883 ])"
      ]
     },
     "execution_count": 46,
     "metadata": {},
     "output_type": "execute_result"
    }
   ],
   "source": [
    "X2"
   ]
  },
  {
   "cell_type": "code",
   "execution_count": 10,
   "metadata": {
    "collapsed": true
   },
   "outputs": [],
   "source": [
    "from sklearn.manifold import MDS"
   ]
  },
  {
   "cell_type": "code",
   "execution_count": 25,
   "metadata": {},
   "outputs": [],
   "source": [
    "mds = MDS(n_components=2)\n",
    "y = mds.fit_transform(mat)"
   ]
  },
  {
   "cell_type": "code",
   "execution_count": 26,
   "metadata": {
    "collapsed": true
   },
   "outputs": [],
   "source": [
    "%matplotlib inline"
   ]
  },
  {
   "cell_type": "code",
   "execution_count": 27,
   "metadata": {
    "collapsed": true
   },
   "outputs": [],
   "source": [
    "import matplotlib.pyplot as plt"
   ]
  },
  {
   "cell_type": "code",
   "execution_count": 28,
   "metadata": {},
   "outputs": [
    {
     "data": {
      "text/plain": [
       "<matplotlib.collections.PathCollection at 0x1d602a46d68>"
      ]
     },
     "execution_count": 28,
     "metadata": {},
     "output_type": "execute_result"
    },
    {
     "data": {
      "image/png": "[encoded data removed]",
      "text/plain": [
       "<matplotlib.figure.Figure at 0x1d6029e1438>"
      ]
     },
     "metadata": {},
     "output_type": "display_data"
    }
   ],
   "source": [
    "plt.scatter(y[:,0],y[:,1])"
   ]
  },
  {
   "cell_type": "code",
   "execution_count": 29,
   "metadata": {},
   "outputs": [
    {
     "data": {
      "text/plain": [
       "<matplotlib.collections.PathCollection at 0x1d602a9af28>"
      ]
     },
     "execution_count": 29,
     "metadata": {},
     "output_type": "execute_result"
    },
    {
     "data": {
      "image/png": "[encoded data removed]",
      "text/plain": [
       "<matplotlib.figure.Figure at 0x1d602a07048>"
      ]
     },
     "metadata": {},
     "output_type": "display_data"
    }
   ],
   "source": [
    "y = mds.fit_transform(np.concatenate([P,Q], axis=0).reshape(2,-1))\n",
    "plt.scatter(y[:,0],y[:,1])"
   ]
  },
  {
   "cell_type": "code",
   "execution_count": null,
   "metadata": {
    "collapsed": true
   },
   "outputs": [],
   "source": []
  }
 ],
 "metadata": {
  "kernelspec": {
   "display_name": "Python 3",
   "language": "python",
   "name": "python3"
  },
  "language_info": {
   "codemirror_mode": {
    "name": "ipython",
    "version": 3
   },
   "file_extension": ".py",
   "mimetype": "text/x-python",
   "name": "python",
   "nbconvert_exporter": "python",
   "pygments_lexer": "ipython3",
   "version": "3.6.1"
  }
 },
 "nbformat": 4,
 "nbformat_minor": 2
}
